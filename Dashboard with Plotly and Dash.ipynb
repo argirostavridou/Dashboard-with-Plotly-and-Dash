{
 "cells": [
  {
   "cell_type": "code",
   "execution_count": 1,
   "id": "e3c0145a-5b47-48cd-8c50-a1596108124e",
   "metadata": {},
   "outputs": [
    {
     "name": "stdout",
     "output_type": "stream",
     "text": [
      "Requirement already satisfied: setuptools in c:\\users\\stavr\\anaconda3\\lib\\site-packages (69.5.1)\n",
      "Note: you may need to restart the kernel to use updated packages.\n"
     ]
    }
   ],
   "source": [
    "pip install setuptools"
   ]
  },
  {
   "cell_type": "code",
   "execution_count": 2,
   "id": "a68d8acc-ec7e-4506-918a-439fb98c49d5",
   "metadata": {},
   "outputs": [
    {
     "name": "stdout",
     "output_type": "stream",
     "text": [
      "Requirement already satisfied: pandas in c:\\users\\stavr\\anaconda3\\lib\\site-packages (2.2.2)\n",
      "Requirement already satisfied: dash in c:\\users\\stavr\\anaconda3\\lib\\site-packages (2.18.0)\n",
      "Requirement already satisfied: numpy>=1.26.0 in c:\\users\\stavr\\anaconda3\\lib\\site-packages (from pandas) (1.26.4)\n",
      "Requirement already satisfied: python-dateutil>=2.8.2 in c:\\users\\stavr\\anaconda3\\lib\\site-packages (from pandas) (2.9.0.post0)\n",
      "Requirement already satisfied: pytz>=2020.1 in c:\\users\\stavr\\anaconda3\\lib\\site-packages (from pandas) (2024.1)\n",
      "Requirement already satisfied: tzdata>=2022.7 in c:\\users\\stavr\\anaconda3\\lib\\site-packages (from pandas) (2023.3)\n",
      "Requirement already satisfied: Flask<3.1,>=1.0.4 in c:\\users\\stavr\\anaconda3\\lib\\site-packages (from dash) (3.0.3)\n",
      "Requirement already satisfied: Werkzeug<3.1 in c:\\users\\stavr\\anaconda3\\lib\\site-packages (from dash) (3.0.3)\n",
      "Requirement already satisfied: plotly>=5.0.0 in c:\\users\\stavr\\anaconda3\\lib\\site-packages (from dash) (5.22.0)\n",
      "Requirement already satisfied: dash-html-components==2.0.0 in c:\\users\\stavr\\anaconda3\\lib\\site-packages (from dash) (2.0.0)\n",
      "Requirement already satisfied: dash-core-components==2.0.0 in c:\\users\\stavr\\anaconda3\\lib\\site-packages (from dash) (2.0.0)\n",
      "Requirement already satisfied: dash-table==5.0.0 in c:\\users\\stavr\\anaconda3\\lib\\site-packages (from dash) (5.0.0)\n",
      "Requirement already satisfied: importlib-metadata in c:\\users\\stavr\\anaconda3\\lib\\site-packages (from dash) (7.0.1)\n",
      "Requirement already satisfied: typing-extensions>=4.1.1 in c:\\users\\stavr\\anaconda3\\lib\\site-packages (from dash) (4.11.0)\n",
      "Requirement already satisfied: requests in c:\\users\\stavr\\anaconda3\\lib\\site-packages (from dash) (2.32.2)\n",
      "Requirement already satisfied: retrying in c:\\users\\stavr\\anaconda3\\lib\\site-packages (from dash) (1.3.4)\n",
      "Requirement already satisfied: nest-asyncio in c:\\users\\stavr\\anaconda3\\lib\\site-packages (from dash) (1.6.0)\n",
      "Requirement already satisfied: setuptools in c:\\users\\stavr\\anaconda3\\lib\\site-packages (from dash) (69.5.1)\n",
      "Requirement already satisfied: Jinja2>=3.1.2 in c:\\users\\stavr\\anaconda3\\lib\\site-packages (from Flask<3.1,>=1.0.4->dash) (3.1.4)\n",
      "Requirement already satisfied: itsdangerous>=2.1.2 in c:\\users\\stavr\\anaconda3\\lib\\site-packages (from Flask<3.1,>=1.0.4->dash) (2.2.0)\n",
      "Requirement already satisfied: click>=8.1.3 in c:\\users\\stavr\\anaconda3\\lib\\site-packages (from Flask<3.1,>=1.0.4->dash) (8.1.7)\n",
      "Requirement already satisfied: blinker>=1.6.2 in c:\\users\\stavr\\anaconda3\\lib\\site-packages (from Flask<3.1,>=1.0.4->dash) (1.6.2)\n",
      "Requirement already satisfied: tenacity>=6.2.0 in c:\\users\\stavr\\anaconda3\\lib\\site-packages (from plotly>=5.0.0->dash) (8.2.2)\n",
      "Requirement already satisfied: packaging in c:\\users\\stavr\\anaconda3\\lib\\site-packages (from plotly>=5.0.0->dash) (23.2)\n",
      "Requirement already satisfied: six>=1.5 in c:\\users\\stavr\\anaconda3\\lib\\site-packages (from python-dateutil>=2.8.2->pandas) (1.16.0)\n",
      "Requirement already satisfied: MarkupSafe>=2.1.1 in c:\\users\\stavr\\anaconda3\\lib\\site-packages (from Werkzeug<3.1->dash) (2.1.3)\n",
      "Requirement already satisfied: zipp>=0.5 in c:\\users\\stavr\\anaconda3\\lib\\site-packages (from importlib-metadata->dash) (3.17.0)\n",
      "Requirement already satisfied: charset-normalizer<4,>=2 in c:\\users\\stavr\\anaconda3\\lib\\site-packages (from requests->dash) (2.0.4)\n",
      "Requirement already satisfied: idna<4,>=2.5 in c:\\users\\stavr\\anaconda3\\lib\\site-packages (from requests->dash) (3.7)\n",
      "Requirement already satisfied: urllib3<3,>=1.21.1 in c:\\users\\stavr\\anaconda3\\lib\\site-packages (from requests->dash) (2.2.2)\n",
      "Requirement already satisfied: certifi>=2017.4.17 in c:\\users\\stavr\\anaconda3\\lib\\site-packages (from requests->dash) (2024.7.4)\n",
      "Requirement already satisfied: colorama in c:\\users\\stavr\\anaconda3\\lib\\site-packages (from click>=8.1.3->Flask<3.1,>=1.0.4->dash) (0.4.6)\n",
      "Note: you may need to restart the kernel to use updated packages.\n"
     ]
    }
   ],
   "source": [
    "pip install pandas dash"
   ]
  },
  {
   "cell_type": "code",
   "execution_count": 3,
   "id": "a4de6a74-1eaa-4866-b01e-3eebb877b2b7",
   "metadata": {},
   "outputs": [
    {
     "name": "stdout",
     "output_type": "stream",
     "text": [
      "Requirement already satisfied: packaging in c:\\users\\stavr\\anaconda3\\lib\\site-packages (23.2)Note: you may need to restart the kernel to use updated packages.\n",
      "\n"
     ]
    }
   ],
   "source": [
    "pip install packaging"
   ]
  },
  {
   "cell_type": "code",
   "execution_count": 4,
   "id": "ca858bec-0b53-4684-b092-5edcb5583b14",
   "metadata": {},
   "outputs": [
    {
     "name": "stdout",
     "output_type": "stream",
     "text": [
      "Requirement already satisfied: httpx==0.20 in c:\\users\\stavr\\anaconda3\\lib\\site-packages (0.20.0)Note: you may need to restart the kernel to use updated packages.\n",
      "\n",
      "Requirement already satisfied: dash in c:\\users\\stavr\\anaconda3\\lib\\site-packages (2.18.0)\n",
      "Requirement already satisfied: plotly in c:\\users\\stavr\\anaconda3\\lib\\site-packages (5.22.0)\n",
      "Requirement already satisfied: certifi in c:\\users\\stavr\\anaconda3\\lib\\site-packages (from httpx==0.20) (2024.7.4)\n",
      "Requirement already satisfied: charset-normalizer in c:\\users\\stavr\\anaconda3\\lib\\site-packages (from httpx==0.20) (2.0.4)\n",
      "Requirement already satisfied: sniffio in c:\\users\\stavr\\anaconda3\\lib\\site-packages (from httpx==0.20) (1.3.0)\n",
      "Requirement already satisfied: rfc3986<2,>=1.3 in c:\\users\\stavr\\anaconda3\\lib\\site-packages (from rfc3986[idna2008]<2,>=1.3->httpx==0.20) (1.5.0)\n",
      "Requirement already satisfied: httpcore<0.14.0,>=0.13.3 in c:\\users\\stavr\\anaconda3\\lib\\site-packages (from httpx==0.20) (0.13.7)\n",
      "Requirement already satisfied: Flask<3.1,>=1.0.4 in c:\\users\\stavr\\anaconda3\\lib\\site-packages (from dash) (3.0.3)\n",
      "Requirement already satisfied: Werkzeug<3.1 in c:\\users\\stavr\\anaconda3\\lib\\site-packages (from dash) (3.0.3)\n",
      "Requirement already satisfied: dash-html-components==2.0.0 in c:\\users\\stavr\\anaconda3\\lib\\site-packages (from dash) (2.0.0)\n",
      "Requirement already satisfied: dash-core-components==2.0.0 in c:\\users\\stavr\\anaconda3\\lib\\site-packages (from dash) (2.0.0)\n",
      "Requirement already satisfied: dash-table==5.0.0 in c:\\users\\stavr\\anaconda3\\lib\\site-packages (from dash) (5.0.0)\n",
      "Requirement already satisfied: importlib-metadata in c:\\users\\stavr\\anaconda3\\lib\\site-packages (from dash) (7.0.1)\n",
      "Requirement already satisfied: typing-extensions>=4.1.1 in c:\\users\\stavr\\anaconda3\\lib\\site-packages (from dash) (4.11.0)\n",
      "Requirement already satisfied: requests in c:\\users\\stavr\\anaconda3\\lib\\site-packages (from dash) (2.32.2)\n",
      "Requirement already satisfied: retrying in c:\\users\\stavr\\anaconda3\\lib\\site-packages (from dash) (1.3.4)\n",
      "Requirement already satisfied: nest-asyncio in c:\\users\\stavr\\anaconda3\\lib\\site-packages (from dash) (1.6.0)\n",
      "Requirement already satisfied: setuptools in c:\\users\\stavr\\anaconda3\\lib\\site-packages (from dash) (69.5.1)\n",
      "Requirement already satisfied: tenacity>=6.2.0 in c:\\users\\stavr\\anaconda3\\lib\\site-packages (from plotly) (8.2.2)\n",
      "Requirement already satisfied: packaging in c:\\users\\stavr\\anaconda3\\lib\\site-packages (from plotly) (23.2)\n",
      "Requirement already satisfied: Jinja2>=3.1.2 in c:\\users\\stavr\\anaconda3\\lib\\site-packages (from Flask<3.1,>=1.0.4->dash) (3.1.4)\n",
      "Requirement already satisfied: itsdangerous>=2.1.2 in c:\\users\\stavr\\anaconda3\\lib\\site-packages (from Flask<3.1,>=1.0.4->dash) (2.2.0)\n",
      "Requirement already satisfied: click>=8.1.3 in c:\\users\\stavr\\anaconda3\\lib\\site-packages (from Flask<3.1,>=1.0.4->dash) (8.1.7)\n",
      "Requirement already satisfied: blinker>=1.6.2 in c:\\users\\stavr\\anaconda3\\lib\\site-packages (from Flask<3.1,>=1.0.4->dash) (1.6.2)\n",
      "Requirement already satisfied: h11<0.13,>=0.11 in c:\\users\\stavr\\anaconda3\\lib\\site-packages (from httpcore<0.14.0,>=0.13.3->httpx==0.20) (0.12.0)\n",
      "Requirement already satisfied: anyio==3.* in c:\\users\\stavr\\anaconda3\\lib\\site-packages (from httpcore<0.14.0,>=0.13.3->httpx==0.20) (3.7.1)\n",
      "Requirement already satisfied: idna>=2.8 in c:\\users\\stavr\\anaconda3\\lib\\site-packages (from anyio==3.*->httpcore<0.14.0,>=0.13.3->httpx==0.20) (3.7)\n",
      "Requirement already satisfied: MarkupSafe>=2.1.1 in c:\\users\\stavr\\anaconda3\\lib\\site-packages (from Werkzeug<3.1->dash) (2.1.3)\n",
      "Requirement already satisfied: zipp>=0.5 in c:\\users\\stavr\\anaconda3\\lib\\site-packages (from importlib-metadata->dash) (3.17.0)\n",
      "Requirement already satisfied: urllib3<3,>=1.21.1 in c:\\users\\stavr\\anaconda3\\lib\\site-packages (from requests->dash) (2.2.2)\n",
      "Requirement already satisfied: six>=1.7.0 in c:\\users\\stavr\\anaconda3\\lib\\site-packages (from retrying->dash) (1.16.0)\n",
      "Requirement already satisfied: colorama in c:\\users\\stavr\\anaconda3\\lib\\site-packages (from click>=8.1.3->Flask<3.1,>=1.0.4->dash) (0.4.6)\n"
     ]
    }
   ],
   "source": [
    "pip install httpx==0.20 dash plotly"
   ]
  },
  {
   "cell_type": "code",
   "execution_count": 5,
   "id": "a447a71f-68ca-4121-a86e-a1639bd1f18f",
   "metadata": {},
   "outputs": [
    {
     "data": {
      "text/html": [
       "\n",
       "        <iframe\n",
       "            width=\"100%\"\n",
       "            height=\"650\"\n",
       "            src=\"http://127.0.0.1:8050/\"\n",
       "            frameborder=\"0\"\n",
       "            allowfullscreen\n",
       "            \n",
       "        ></iframe>\n",
       "        "
      ],
      "text/plain": [
       "<IPython.lib.display.IFrame at 0x1bbe9fb71a0>"
      ]
     },
     "metadata": {},
     "output_type": "display_data"
    }
   ],
   "source": [
    "import dash\n",
    "from dash import dcc\n",
    "from dash import html\n",
    "from dash.dependencies import Input, Output\n",
    "import pandas as pd\n",
    "import plotly.express as px\n",
    "\n",
    "# Load the data using pandas\n",
    "data = pd.read_csv('https://cf-courses-data.s3.us.cloud-object-storage.appdomain.cloud/IBMDeveloperSkillsNetwork-DV0101EN-SkillsNetwork/Data%20Files/historical_automobile_sales.csv')\n",
    "\n",
    "# Initialize the Dash app\n",
    "app = dash.Dash(__name__)\n",
    "\n",
    "# Set the title of the dashboard\n",
    "app.title = \"Automobile Sales Statistics Dashboard\"\n",
    "\n",
    "# Create the dropdown menu options\n",
    "dropdown_options = [\n",
    "    {'label': 'Yearly Statistics', 'value': 'Yearly Statistics'},\n",
    "    {'label': 'Recession Period Statistics', 'value': 'Recession Period Statistics'}\n",
    "]\n",
    "\n",
    "# List of years \n",
    "year_list = [i for i in range(1980, 2024, 1)]\n",
    "\n",
    "# Create the layout of the app\n",
    "app.layout = html.Div([\n",
    "    html.H1(\"Automobile Sales Statistics Dashboard\"),  # Title\n",
    "    html.Div([\n",
    "        html.Label(\"Select Statistics:\"),\n",
    "        dcc.Dropdown(\n",
    "            id='dropdown-statistics',\n",
    "            options=dropdown_options,\n",
    "            placeholder='Select a report type',\n",
    "            value='Select Statistics',\n",
    "            style={'width': '80%', 'padding': '3px', 'fontSize': '20px', 'textAlignLast': 'center'}\n",
    "        )\n",
    "    ]),\n",
    "    html.Div(dcc.Dropdown(\n",
    "        id='select-year',\n",
    "        options=[{'label': i, 'value': i} for i in year_list],\n",
    "        value='Select-year',\n",
    "        placeholder='Select-year'\n",
    "    )),\n",
    "    html.Div([\n",
    "        html.Div(id='output-container', className='chart-grid', style={'display': 'flex'})\n",
    "    ])\n",
    "])\n",
    "\n",
    "# TASK 2.4: Creating Callbacks\n",
    "# Define the callback function to update the input container based on the selected statistics\n",
    "@app.callback(\n",
    "    Output(component_id='select-year', component_property='disabled'),\n",
    "    Input(component_id='dropdown-statistics', component_property='value')\n",
    ")\n",
    "def update_input_container(selected_statistics):\n",
    "    if selected_statistics == 'Yearly Statistics': \n",
    "        return False  # Enable the dropdown if Yearly Statistics is selected\n",
    "    else: \n",
    "        return True  # Disable the dropdown if Recession Period Statistics is selected\n",
    "\n",
    "\n",
    "# Define the callback function to update the output container based on the selected statistics\n",
    "@app.callback(\n",
    "    Output(component_id='output-container', component_property='children'),\n",
    "    [Input(component_id='dropdown-statistics', component_property='value'), \n",
    "     Input(component_id='select-year', component_property='value')]\n",
    ")\n",
    "def update_output_container(selected_statistics, selected_year):\n",
    "    if selected_statistics == 'Recession Period Statistics':\n",
    "        # Filter the data for recession periods (where 'Recession' equals 1)\n",
    "        recession_data = data[data['Recession'] == 1]\n",
    "\n",
    "        # TASK 2.5: Create and display graphs for Recession Report Statistics\n",
    "\n",
    "        # Plot 1: Automobile sales fluctuate over the Recession Period (year-wise) using a line chart\n",
    "        yearly_rec = recession_data.groupby('Year')['Automobile_Sales'].mean().reset_index()\n",
    "        R_chart1 = dcc.Graph(\n",
    "            figure=px.line(yearly_rec, x='Year', y='Automobile_Sales', title=\"Automobile Sales During Recession (Yearly)\")\n",
    "        )\n",
    "\n",
    "        # Plot 2: Average number of vehicles sold by vehicle type\n",
    "        average_sales = recession_data.groupby('Vehicle_Type')['Automobile_Sales'].mean().reset_index()\n",
    "        R_chart2 = dcc.Graph(\n",
    "            figure=px.bar(average_sales, x='Vehicle_Type', y='Automobile_Sales', title=\"Average Vehicle Sales by Type During Recession\")\n",
    "        )\n",
    "\n",
    "        # Plot 3: Pie chart for total expenditure share by vehicle type during recessions\n",
    "        exp_rec = recession_data.groupby('Vehicle_Type')['Advertising_Expenditure'].sum().reset_index()\n",
    "        R_chart3 = dcc.Graph(\n",
    "            figure=px.pie(exp_rec, values='Advertising_Expenditure', names='Vehicle_Type', title=\"Advertising Expenditure Share by Vehicle Type During Recession\")\n",
    "        )\n",
    "\n",
    "        # Plot 4: Effect of unemployment rate on vehicle type and sales\n",
    "        unemp_data = recession_data.groupby(['unemployment_rate', 'Vehicle_Type'])['Automobile_Sales'].mean().reset_index()\n",
    "        R_chart4 = dcc.Graph(\n",
    "            figure=px.bar(unemp_data, x='unemployment_rate', y='Automobile_Sales', color='Vehicle_Type',\n",
    "                          labels={'unemployment_rate': 'Unemployment Rate', 'Automobile_Sales': 'Average Automobile Sales'},\n",
    "                          title='Effect of Unemployment Rate on Vehicle Type and Sales')\n",
    "        )\n",
    "\n",
    "        # Return the four charts in two rows (two charts per row)\n",
    "        return [\n",
    "            html.Div(className='chart-item', children=[html.Div(children=R_chart1), html.Div(children=R_chart2)], style={'display': 'flex'}),\n",
    "            html.Div(className='chart-item', children=[html.Div(children=R_chart3), html.Div(children=R_chart4)], style={'display': 'flex'})\n",
    "        ]\n",
    "\n",
    "    elif selected_statistics == 'Yearly Statistics':\n",
    "        # Filter data based on the selected year\n",
    "        yearly_data = data[data['Year'] == selected_year]\n",
    "\n",
    "        # Plot 1: Yearly Automobile sales using a line chart for the whole period\n",
    "        yas = data.groupby('Year')['Automobile_Sales'].mean().reset_index()\n",
    "        Y_chart1 = dcc.Graph(figure=px.line(yas, x='Year', y='Automobile_Sales', title=\"Yearly Automobile Sales\"))\n",
    "\n",
    "        # Plot 2: Total Monthly Automobile sales using a line chart\n",
    "        mas = yearly_data.groupby('Month')['Automobile_Sales'].sum().reset_index()\n",
    "        Y_chart2 = dcc.Graph(figure=px.line(mas, x='Month', y='Automobile_Sales', title='Total Monthly Automobile Sales'))\n",
    "\n",
    "        # Plot 3: Bar chart for average number of vehicles sold during the given year\n",
    "        avr_vdata = yearly_data.groupby('Vehicle_Type')['Automobile_Sales'].mean().reset_index()\n",
    "        Y_chart3 = dcc.Graph(figure=px.bar(avr_vdata, x='Vehicle_Type', y='Automobile_Sales',\n",
    "                                           title='Average Vehicles Sold by Vehicle Type in the year {}'.format(selected_year)))\n",
    "\n",
    "        # Plot 4: Total Advertisement Expenditure for each vehicle using a pie chart\n",
    "        exp_data = yearly_data.groupby('Vehicle_Type')['Advertising_Expenditure'].sum().reset_index()\n",
    "        Y_chart4 = dcc.Graph(figure=px.pie(exp_data, values='Advertising_Expenditure', names='Vehicle_Type',\n",
    "                                           title='Total Advertisement Expenditure for Each Vehicle'))\n",
    "\n",
    "        # Return the charts for displaying Yearly data\n",
    "        return [\n",
    "            html.Div(className='chart-item', children=[html.Div(children=Y_chart1), html.Div(children=Y_chart2)], style={'display': 'flex'}),\n",
    "            html.Div(className='chart-item', children=[html.Div(children=Y_chart3), html.Div(children=Y_chart4)], style={'display': 'flex'})\n",
    "        ]\n",
    "    else:\n",
    "        return None\n",
    "\n",
    "\n",
    "# Run the Dash app\n",
    "if __name__ == '__main__':\n",
    "    app.run_server(debug=True)\n"
   ]
  }
 ],
 "metadata": {
  "kernelspec": {
   "display_name": "Python 3 (ipykernel)",
   "language": "python",
   "name": "python3"
  },
  "language_info": {
   "codemirror_mode": {
    "name": "ipython",
    "version": 3
   },
   "file_extension": ".py",
   "mimetype": "text/x-python",
   "name": "python",
   "nbconvert_exporter": "python",
   "pygments_lexer": "ipython3",
   "version": "3.12.4"
  }
 },
 "nbformat": 4,
 "nbformat_minor": 5
}
